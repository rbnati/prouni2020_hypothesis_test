{
  "nbformat": 4,
  "nbformat_minor": 0,
  "metadata": {
    "colab": {
      "name": "(PROUNI - 2020) Projeto Final - Teste de Hipótese Qui-quadrado.ipynb",
      "provenance": [],
      "collapsed_sections": [],
      "include_colab_link": true
    },
    "kernelspec": {
      "name": "python3",
      "display_name": "Python 3"
    },
    "language_info": {
      "name": "python"
    }
  },
  "cells": [
    {
      "cell_type": "markdown",
      "metadata": {
        "id": "view-in-github",
        "colab_type": "text"
      },
      "source": [
        "<a href=\"https://colab.research.google.com/github/rbnati/prouni2020_hypothesis_test/blob/main/(PROUNI_2020)_Projeto_Final_Teste_de_Hip%C3%B3tese_Qui_quadrado.ipynb\" target=\"_parent\"><img src=\"https://colab.research.google.com/assets/colab-badge.svg\" alt=\"Open In Colab\"/></a>"
      ]
    },
    {
      "cell_type": "markdown",
      "metadata": {
        "id": "28NmnqBwcftr"
      },
      "source": [
        "**ANÁLISE EXPLORATÓRIA** \n",
        "- Distribuição por região\n",
        "- Distribuição por raça x Dados do IBGE\n",
        "- Distribuição por tipo de bolsa\n",
        "- Distribuição por modalidade\n",
        "- Distribuição por sexo x Dados do IBGE\n",
        "\n",
        "**TESTE HIPÓTESE**\n",
        "\n",
        "- Existe dependência entre modalidade (EAD e presencial) e região?\n",
        "- Existe dependência entre modalidade (EAD e presencial) e sexo?\n",
        "- Existe dependência entre tipo de bolsa (total e parcial) e região?\n",
        "- Existe dependência entre tipo de bolsa (total e parcial) e raça?\n",
        "\n",
        "**ROTEIRO APRESENTAÇÃO**\n",
        "- Contextualização\n",
        "- Objetivo\n",
        "- Justificativa\n",
        "- Coleta de dados\n",
        "- Análise exploratória\n",
        "- Distribuições\n",
        "- Teste de hipótese qui-quadrado\n",
        "- Análise dos resultados\n",
        "- Documentação\n",
        "\n",
        "\n"
      ]
    },
    {
      "cell_type": "markdown",
      "metadata": {
        "id": "zWggOx46UAp-"
      },
      "source": [
        "#Imports"
      ]
    },
    {
      "cell_type": "code",
      "metadata": {
        "id": "CG--v7BYVwt4"
      },
      "source": [
        "import pandas as pd\n",
        "import matplotlib.pyplot as plt\n",
        "from scipy.stats import chi2_contingency\n",
        "from scipy.stats import chi2\n",
        "from scipy.stats import chisquare"
      ],
      "execution_count": null,
      "outputs": []
    },
    {
      "cell_type": "markdown",
      "metadata": {
        "id": "3Bx3dlmkYW3M"
      },
      "source": [
        "# 1) Carregando o dataframe"
      ]
    },
    {
      "cell_type": "code",
      "metadata": {
        "colab": {
          "base_uri": "https://localhost:8080/"
        },
        "id": "zTvCXM3jsknR",
        "outputId": "054ec175-d7b0-4b48-c00d-9aa97c102d2c"
      },
      "source": [
        "from google.colab import drive\n",
        "drive.mount('/content/drive')"
      ],
      "execution_count": null,
      "outputs": [
        {
          "output_type": "stream",
          "text": [
            "Mounted at /content/drive\n"
          ],
          "name": "stdout"
        }
      ]
    },
    {
      "cell_type": "code",
      "metadata": {
        "colab": {
          "base_uri": "https://localhost:8080/",
          "height": 391
        },
        "id": "ZP9AxklLZKYz",
        "outputId": "b578852f-c092-4d19-b9ea-f4fea1a6ca57"
      },
      "source": [
        "dataframe_2020 = pd.read_excel('/content/drive/MyDrive/Estatística/PROUNI EXCEL/Dados PROUNI (2020).xlsx', index_col=0)\n",
        "dataframe_2020.head()"
      ],
      "execution_count": null,
      "outputs": [
        {
          "output_type": "execute_result",
          "data": {
            "text/html": [
              "<div>\n",
              "<style scoped>\n",
              "    .dataframe tbody tr th:only-of-type {\n",
              "        vertical-align: middle;\n",
              "    }\n",
              "\n",
              "    .dataframe tbody tr th {\n",
              "        vertical-align: top;\n",
              "    }\n",
              "\n",
              "    .dataframe thead th {\n",
              "        text-align: right;\n",
              "    }\n",
              "</style>\n",
              "<table border=\"1\" class=\"dataframe\">\n",
              "  <thead>\n",
              "    <tr style=\"text-align: right;\">\n",
              "      <th></th>\n",
              "      <th>CODIGO_EMEC_IES_BOLSA</th>\n",
              "      <th>NOME_IES_BOLSA</th>\n",
              "      <th>MUNICIPIO</th>\n",
              "      <th>CAMPUS</th>\n",
              "      <th>TIPO_BOLSA</th>\n",
              "      <th>MODALIDADE_ENSINO_BOLSA</th>\n",
              "      <th>NOME_CURSO_BOLSA</th>\n",
              "      <th>NOME_TURNO_CURSO_BOLSA</th>\n",
              "      <th>CPF_BENEFICIARIO</th>\n",
              "      <th>SEXO_BENEFICIARIO_BOLSA</th>\n",
              "      <th>RACA_BENEFICIARIO_BOLSA</th>\n",
              "      <th>DATA_NASCIMENTO</th>\n",
              "      <th>BENEFICIARIO_DEFICIENTE_FISICO</th>\n",
              "      <th>REGIAO_BENEFICIARIO_BOLSA</th>\n",
              "      <th>UF_BENEFICIARIO</th>\n",
              "      <th>MUNICIPIO_BENEFICIARIO</th>\n",
              "    </tr>\n",
              "    <tr>\n",
              "      <th>ANO_CONCESSAO_BOLSA</th>\n",
              "      <th></th>\n",
              "      <th></th>\n",
              "      <th></th>\n",
              "      <th></th>\n",
              "      <th></th>\n",
              "      <th></th>\n",
              "      <th></th>\n",
              "      <th></th>\n",
              "      <th></th>\n",
              "      <th></th>\n",
              "      <th></th>\n",
              "      <th></th>\n",
              "      <th></th>\n",
              "      <th></th>\n",
              "      <th></th>\n",
              "      <th></th>\n",
              "    </tr>\n",
              "  </thead>\n",
              "  <tbody>\n",
              "    <tr>\n",
              "      <th>2020</th>\n",
              "      <td>322</td>\n",
              "      <td>UNIVERSIDADE PAULISTA</td>\n",
              "      <td>IPATINGA</td>\n",
              "      <td>IPATINGA</td>\n",
              "      <td>INTEGRAL</td>\n",
              "      <td>EAD</td>\n",
              "      <td>PEDAGOGIA</td>\n",
              "      <td>CURSO A DIST¶NCIA</td>\n",
              "      <td>991.XXX.XXX-91</td>\n",
              "      <td>F</td>\n",
              "      <td>Parda</td>\n",
              "      <td>1973-08-11</td>\n",
              "      <td>N</td>\n",
              "      <td>SUDESTE</td>\n",
              "      <td>MG</td>\n",
              "      <td>GOVERNADOR VALADARES</td>\n",
              "    </tr>\n",
              "    <tr>\n",
              "      <th>2020</th>\n",
              "      <td>163</td>\n",
              "      <td>UNIVERSIDADE ESTµCIO DE Sµ</td>\n",
              "      <td>FORTALEZA</td>\n",
              "      <td>EAD VIA CORPVS - CE</td>\n",
              "      <td>INTEGRAL</td>\n",
              "      <td>EAD</td>\n",
              "      <td>MARKETING</td>\n",
              "      <td>CURSO A DIST¶NCIA</td>\n",
              "      <td>067.XXX.XXX-01</td>\n",
              "      <td>M</td>\n",
              "      <td>Parda</td>\n",
              "      <td>1987-05-13</td>\n",
              "      <td>N</td>\n",
              "      <td>NORDESTE</td>\n",
              "      <td>CE</td>\n",
              "      <td>FORTALEZA</td>\n",
              "    </tr>\n",
              "    <tr>\n",
              "      <th>2020</th>\n",
              "      <td>17670</td>\n",
              "      <td>FACULDADE DE QUIXERAMOBIM</td>\n",
              "      <td>QUIXERAMOBIM</td>\n",
              "      <td>FACULDADE DE QUIXERAMOBIM - UNIQ</td>\n",
              "      <td>INTEGRAL</td>\n",
              "      <td>PRESENCIAL</td>\n",
              "      <td>FARMµCIA</td>\n",
              "      <td>NOTURNO</td>\n",
              "      <td>623.XXX.XXX-27</td>\n",
              "      <td>M</td>\n",
              "      <td>Parda</td>\n",
              "      <td>2001-07-23</td>\n",
              "      <td>N</td>\n",
              "      <td>NORDESTE</td>\n",
              "      <td>CE</td>\n",
              "      <td>MOMBACA</td>\n",
              "    </tr>\n",
              "    <tr>\n",
              "      <th>2020</th>\n",
              "      <td>203</td>\n",
              "      <td>UNIVERSIDADE SÇO JUDAS TADEU</td>\n",
              "      <td>SAO PAULO</td>\n",
              "      <td>PAULISTA</td>\n",
              "      <td>PARCIAL</td>\n",
              "      <td>PRESENCIAL</td>\n",
              "      <td>DIREITO</td>\n",
              "      <td>MATUTINO</td>\n",
              "      <td>089.XXX.XXX-40</td>\n",
              "      <td>F</td>\n",
              "      <td>Branca</td>\n",
              "      <td>2003-04-04</td>\n",
              "      <td>N</td>\n",
              "      <td>NORDESTE</td>\n",
              "      <td>BA</td>\n",
              "      <td>IBITITA</td>\n",
              "    </tr>\n",
              "    <tr>\n",
              "      <th>2020</th>\n",
              "      <td>203</td>\n",
              "      <td>UNIVERSIDADE SÇO JUDAS TADEU</td>\n",
              "      <td>SAO PAULO</td>\n",
              "      <td>PAULISTA</td>\n",
              "      <td>INTEGRAL</td>\n",
              "      <td>PRESENCIAL</td>\n",
              "      <td>DIREITO</td>\n",
              "      <td>MATUTINO</td>\n",
              "      <td>173.XXX.XXX-09</td>\n",
              "      <td>F</td>\n",
              "      <td>Branca</td>\n",
              "      <td>1977-12-07</td>\n",
              "      <td>N</td>\n",
              "      <td>SUDESTE</td>\n",
              "      <td>SP</td>\n",
              "      <td>SAO PAULO</td>\n",
              "    </tr>\n",
              "  </tbody>\n",
              "</table>\n",
              "</div>"
            ],
            "text/plain": [
              "                     CODIGO_EMEC_IES_BOLSA  ... MUNICIPIO_BENEFICIARIO\n",
              "ANO_CONCESSAO_BOLSA                         ...                       \n",
              "2020                                   322  ...   GOVERNADOR VALADARES\n",
              "2020                                   163  ...              FORTALEZA\n",
              "2020                                 17670  ...                MOMBACA\n",
              "2020                                   203  ...                IBITITA\n",
              "2020                                   203  ...              SAO PAULO\n",
              "\n",
              "[5 rows x 16 columns]"
            ]
          },
          "metadata": {},
          "execution_count": 4
        }
      ]
    },
    {
      "cell_type": "markdown",
      "metadata": {
        "id": "L3Awft_Pez2z"
      },
      "source": [
        "# 2) Verificando e eliminando itens com valores nulos dos datasets"
      ]
    },
    {
      "cell_type": "code",
      "metadata": {
        "colab": {
          "base_uri": "https://localhost:8080/"
        },
        "id": "VV8hRDcHgsIc",
        "outputId": "e80b3489-2712-403c-ece9-f11fe6af55e7"
      },
      "source": [
        "pd.isnull(dataframe_2020).sum()"
      ],
      "execution_count": null,
      "outputs": [
        {
          "output_type": "execute_result",
          "data": {
            "text/plain": [
              "CODIGO_EMEC_IES_BOLSA              0\n",
              "NOME_IES_BOLSA                     0\n",
              "MUNICIPIO                          0\n",
              "CAMPUS                             0\n",
              "TIPO_BOLSA                         0\n",
              "MODALIDADE_ENSINO_BOLSA            0\n",
              "NOME_CURSO_BOLSA                  38\n",
              "NOME_TURNO_CURSO_BOLSA             0\n",
              "CPF_BENEFICIARIO                   0\n",
              "SEXO_BENEFICIARIO_BOLSA            0\n",
              "RACA_BENEFICIARIO_BOLSA            0\n",
              "DATA_NASCIMENTO                    0\n",
              "BENEFICIARIO_DEFICIENTE_FISICO     0\n",
              "REGIAO_BENEFICIARIO_BOLSA          0\n",
              "UF_BENEFICIARIO                    0\n",
              "MUNICIPIO_BENEFICIARIO             0\n",
              "dtype: int64"
            ]
          },
          "metadata": {},
          "execution_count": 5
        }
      ]
    },
    {
      "cell_type": "code",
      "metadata": {
        "colab": {
          "base_uri": "https://localhost:8080/",
          "height": 391
        },
        "id": "EH0nlbBAgsId",
        "outputId": "18231bf2-8fb3-4a6f-ccf5-428398027784"
      },
      "source": [
        "dataframe_2020_clean = dataframe_2020.dropna()\n",
        "dataframe_2020_clean.head()"
      ],
      "execution_count": null,
      "outputs": [
        {
          "output_type": "execute_result",
          "data": {
            "text/html": [
              "<div>\n",
              "<style scoped>\n",
              "    .dataframe tbody tr th:only-of-type {\n",
              "        vertical-align: middle;\n",
              "    }\n",
              "\n",
              "    .dataframe tbody tr th {\n",
              "        vertical-align: top;\n",
              "    }\n",
              "\n",
              "    .dataframe thead th {\n",
              "        text-align: right;\n",
              "    }\n",
              "</style>\n",
              "<table border=\"1\" class=\"dataframe\">\n",
              "  <thead>\n",
              "    <tr style=\"text-align: right;\">\n",
              "      <th></th>\n",
              "      <th>CODIGO_EMEC_IES_BOLSA</th>\n",
              "      <th>NOME_IES_BOLSA</th>\n",
              "      <th>MUNICIPIO</th>\n",
              "      <th>CAMPUS</th>\n",
              "      <th>TIPO_BOLSA</th>\n",
              "      <th>MODALIDADE_ENSINO_BOLSA</th>\n",
              "      <th>NOME_CURSO_BOLSA</th>\n",
              "      <th>NOME_TURNO_CURSO_BOLSA</th>\n",
              "      <th>CPF_BENEFICIARIO</th>\n",
              "      <th>SEXO_BENEFICIARIO_BOLSA</th>\n",
              "      <th>RACA_BENEFICIARIO_BOLSA</th>\n",
              "      <th>DATA_NASCIMENTO</th>\n",
              "      <th>BENEFICIARIO_DEFICIENTE_FISICO</th>\n",
              "      <th>REGIAO_BENEFICIARIO_BOLSA</th>\n",
              "      <th>UF_BENEFICIARIO</th>\n",
              "      <th>MUNICIPIO_BENEFICIARIO</th>\n",
              "    </tr>\n",
              "    <tr>\n",
              "      <th>ANO_CONCESSAO_BOLSA</th>\n",
              "      <th></th>\n",
              "      <th></th>\n",
              "      <th></th>\n",
              "      <th></th>\n",
              "      <th></th>\n",
              "      <th></th>\n",
              "      <th></th>\n",
              "      <th></th>\n",
              "      <th></th>\n",
              "      <th></th>\n",
              "      <th></th>\n",
              "      <th></th>\n",
              "      <th></th>\n",
              "      <th></th>\n",
              "      <th></th>\n",
              "      <th></th>\n",
              "    </tr>\n",
              "  </thead>\n",
              "  <tbody>\n",
              "    <tr>\n",
              "      <th>2020</th>\n",
              "      <td>322</td>\n",
              "      <td>UNIVERSIDADE PAULISTA</td>\n",
              "      <td>IPATINGA</td>\n",
              "      <td>IPATINGA</td>\n",
              "      <td>INTEGRAL</td>\n",
              "      <td>EAD</td>\n",
              "      <td>PEDAGOGIA</td>\n",
              "      <td>CURSO A DIST¶NCIA</td>\n",
              "      <td>991.XXX.XXX-91</td>\n",
              "      <td>F</td>\n",
              "      <td>Parda</td>\n",
              "      <td>1973-08-11</td>\n",
              "      <td>N</td>\n",
              "      <td>SUDESTE</td>\n",
              "      <td>MG</td>\n",
              "      <td>GOVERNADOR VALADARES</td>\n",
              "    </tr>\n",
              "    <tr>\n",
              "      <th>2020</th>\n",
              "      <td>163</td>\n",
              "      <td>UNIVERSIDADE ESTµCIO DE Sµ</td>\n",
              "      <td>FORTALEZA</td>\n",
              "      <td>EAD VIA CORPVS - CE</td>\n",
              "      <td>INTEGRAL</td>\n",
              "      <td>EAD</td>\n",
              "      <td>MARKETING</td>\n",
              "      <td>CURSO A DIST¶NCIA</td>\n",
              "      <td>067.XXX.XXX-01</td>\n",
              "      <td>M</td>\n",
              "      <td>Parda</td>\n",
              "      <td>1987-05-13</td>\n",
              "      <td>N</td>\n",
              "      <td>NORDESTE</td>\n",
              "      <td>CE</td>\n",
              "      <td>FORTALEZA</td>\n",
              "    </tr>\n",
              "    <tr>\n",
              "      <th>2020</th>\n",
              "      <td>17670</td>\n",
              "      <td>FACULDADE DE QUIXERAMOBIM</td>\n",
              "      <td>QUIXERAMOBIM</td>\n",
              "      <td>FACULDADE DE QUIXERAMOBIM - UNIQ</td>\n",
              "      <td>INTEGRAL</td>\n",
              "      <td>PRESENCIAL</td>\n",
              "      <td>FARMµCIA</td>\n",
              "      <td>NOTURNO</td>\n",
              "      <td>623.XXX.XXX-27</td>\n",
              "      <td>M</td>\n",
              "      <td>Parda</td>\n",
              "      <td>2001-07-23</td>\n",
              "      <td>N</td>\n",
              "      <td>NORDESTE</td>\n",
              "      <td>CE</td>\n",
              "      <td>MOMBACA</td>\n",
              "    </tr>\n",
              "    <tr>\n",
              "      <th>2020</th>\n",
              "      <td>203</td>\n",
              "      <td>UNIVERSIDADE SÇO JUDAS TADEU</td>\n",
              "      <td>SAO PAULO</td>\n",
              "      <td>PAULISTA</td>\n",
              "      <td>PARCIAL</td>\n",
              "      <td>PRESENCIAL</td>\n",
              "      <td>DIREITO</td>\n",
              "      <td>MATUTINO</td>\n",
              "      <td>089.XXX.XXX-40</td>\n",
              "      <td>F</td>\n",
              "      <td>Branca</td>\n",
              "      <td>2003-04-04</td>\n",
              "      <td>N</td>\n",
              "      <td>NORDESTE</td>\n",
              "      <td>BA</td>\n",
              "      <td>IBITITA</td>\n",
              "    </tr>\n",
              "    <tr>\n",
              "      <th>2020</th>\n",
              "      <td>203</td>\n",
              "      <td>UNIVERSIDADE SÇO JUDAS TADEU</td>\n",
              "      <td>SAO PAULO</td>\n",
              "      <td>PAULISTA</td>\n",
              "      <td>INTEGRAL</td>\n",
              "      <td>PRESENCIAL</td>\n",
              "      <td>DIREITO</td>\n",
              "      <td>MATUTINO</td>\n",
              "      <td>173.XXX.XXX-09</td>\n",
              "      <td>F</td>\n",
              "      <td>Branca</td>\n",
              "      <td>1977-12-07</td>\n",
              "      <td>N</td>\n",
              "      <td>SUDESTE</td>\n",
              "      <td>SP</td>\n",
              "      <td>SAO PAULO</td>\n",
              "    </tr>\n",
              "  </tbody>\n",
              "</table>\n",
              "</div>"
            ],
            "text/plain": [
              "                     CODIGO_EMEC_IES_BOLSA  ... MUNICIPIO_BENEFICIARIO\n",
              "ANO_CONCESSAO_BOLSA                         ...                       \n",
              "2020                                   322  ...   GOVERNADOR VALADARES\n",
              "2020                                   163  ...              FORTALEZA\n",
              "2020                                 17670  ...                MOMBACA\n",
              "2020                                   203  ...                IBITITA\n",
              "2020                                   203  ...              SAO PAULO\n",
              "\n",
              "[5 rows x 16 columns]"
            ]
          },
          "metadata": {},
          "execution_count": 6
        }
      ]
    },
    {
      "cell_type": "code",
      "metadata": {
        "colab": {
          "base_uri": "https://localhost:8080/"
        },
        "id": "2-UcwPMtgsId",
        "outputId": "68b59f0d-1825-4233-d915-53d956c6a009"
      },
      "source": [
        "pd.isnull(dataframe_2020_clean).sum()"
      ],
      "execution_count": null,
      "outputs": [
        {
          "output_type": "execute_result",
          "data": {
            "text/plain": [
              "CODIGO_EMEC_IES_BOLSA             0\n",
              "NOME_IES_BOLSA                    0\n",
              "MUNICIPIO                         0\n",
              "CAMPUS                            0\n",
              "TIPO_BOLSA                        0\n",
              "MODALIDADE_ENSINO_BOLSA           0\n",
              "NOME_CURSO_BOLSA                  0\n",
              "NOME_TURNO_CURSO_BOLSA            0\n",
              "CPF_BENEFICIARIO                  0\n",
              "SEXO_BENEFICIARIO_BOLSA           0\n",
              "RACA_BENEFICIARIO_BOLSA           0\n",
              "DATA_NASCIMENTO                   0\n",
              "BENEFICIARIO_DEFICIENTE_FISICO    0\n",
              "REGIAO_BENEFICIARIO_BOLSA         0\n",
              "UF_BENEFICIARIO                   0\n",
              "MUNICIPIO_BENEFICIARIO            0\n",
              "dtype: int64"
            ]
          },
          "metadata": {},
          "execution_count": 7
        }
      ]
    },
    {
      "cell_type": "code",
      "metadata": {
        "colab": {
          "base_uri": "https://localhost:8080/"
        },
        "id": "CT8Q6rsMg3VK",
        "outputId": "d48e8e46-07f8-4ad1-e1c6-f7fc05e01833"
      },
      "source": [
        "len(dataframe_2020_clean)"
      ],
      "execution_count": null,
      "outputs": [
        {
          "output_type": "execute_result",
          "data": {
            "text/plain": [
              "166792"
            ]
          },
          "metadata": {},
          "execution_count": 8
        }
      ]
    },
    {
      "cell_type": "markdown",
      "metadata": {
        "id": "ML7oLSpTifG1"
      },
      "source": [
        "# 3) Verificando as categorias presentes em cada variável de interesse"
      ]
    },
    {
      "cell_type": "code",
      "metadata": {
        "colab": {
          "base_uri": "https://localhost:8080/"
        },
        "id": "mvxA4CMgixTW",
        "outputId": "1013ca77-8073-4569-8e8e-7debd366d79b"
      },
      "source": [
        "dataframe_2020_clean[\"REGIAO_BENEFICIARIO_BOLSA\"].unique()"
      ],
      "execution_count": null,
      "outputs": [
        {
          "output_type": "execute_result",
          "data": {
            "text/plain": [
              "array(['SUDESTE', 'NORDESTE', 'SUL', 'CENTRO-OESTE', 'NORTE'],\n",
              "      dtype=object)"
            ]
          },
          "metadata": {},
          "execution_count": 9
        }
      ]
    },
    {
      "cell_type": "code",
      "metadata": {
        "colab": {
          "base_uri": "https://localhost:8080/"
        },
        "id": "7xgYgqHWiJsX",
        "outputId": "d7eb21f8-e308-4b0a-9916-680b1a1143ec"
      },
      "source": [
        "dataframe_2020[\"MODALIDADE_ENSINO_BOLSA\"].unique()\n"
      ],
      "execution_count": null,
      "outputs": [
        {
          "output_type": "execute_result",
          "data": {
            "text/plain": [
              "array(['EAD', 'PRESENCIAL'], dtype=object)"
            ]
          },
          "metadata": {},
          "execution_count": 10
        }
      ]
    },
    {
      "cell_type": "code",
      "metadata": {
        "colab": {
          "base_uri": "https://localhost:8080/"
        },
        "id": "8_Sr8UKhi5B-",
        "outputId": "86e3ace4-96d4-4887-ac4e-4f25c90a9614"
      },
      "source": [
        "dataframe_2020[\"TIPO_BOLSA\"].unique()"
      ],
      "execution_count": null,
      "outputs": [
        {
          "output_type": "execute_result",
          "data": {
            "text/plain": [
              "array(['INTEGRAL', 'PARCIAL'], dtype=object)"
            ]
          },
          "metadata": {},
          "execution_count": 11
        }
      ]
    },
    {
      "cell_type": "code",
      "metadata": {
        "colab": {
          "base_uri": "https://localhost:8080/"
        },
        "id": "eGGwJvqQiye1",
        "outputId": "3c768fd7-a988-4741-f214-49776c3e4712"
      },
      "source": [
        "dataframe_2020[\"RACA_BENEFICIARIO_BOLSA\"].unique()"
      ],
      "execution_count": null,
      "outputs": [
        {
          "output_type": "execute_result",
          "data": {
            "text/plain": [
              "array(['Parda', 'Branca', 'Preta', 'Amarela', 'NÆo Informada', 'Ind¡gena'],\n",
              "      dtype=object)"
            ]
          },
          "metadata": {},
          "execution_count": 12
        }
      ]
    },
    {
      "cell_type": "code",
      "metadata": {
        "colab": {
          "base_uri": "https://localhost:8080/"
        },
        "id": "xpOJkG24i3AC",
        "outputId": "2c677bec-0690-4508-fa95-b572f9305117"
      },
      "source": [
        "dataframe_2020[\"SEXO_BENEFICIARIO_BOLSA\"].unique()"
      ],
      "execution_count": null,
      "outputs": [
        {
          "output_type": "execute_result",
          "data": {
            "text/plain": [
              "array(['F', 'M'], dtype=object)"
            ]
          },
          "metadata": {},
          "execution_count": 13
        }
      ]
    },
    {
      "cell_type": "markdown",
      "metadata": {
        "id": "loANnB60iH85"
      },
      "source": [
        "# 4) Análise exploratória "
      ]
    },
    {
      "cell_type": "markdown",
      "metadata": {
        "id": "LYjY5ti9x8jQ"
      },
      "source": [
        "## 4.1) Por região"
      ]
    },
    {
      "cell_type": "code",
      "metadata": {
        "colab": {
          "base_uri": "https://localhost:8080/",
          "height": 204
        },
        "id": "sVnNcYj4pT4d",
        "outputId": "68503799-dad5-44e2-a390-5914ee2c6cd6"
      },
      "source": [
        "frequency_by_region = pd.DataFrame(dataframe_2020_clean[\"REGIAO_BENEFICIARIO_BOLSA\"].value_counts()).sort_index(ascending=False)\n",
        "frequency_by_region = frequency_by_region.rename(columns={\"REGIAO_BENEFICIARIO_BOLSA\":\"nº beneficiários\"})\n",
        "frequency_by_region = frequency_by_region.sort_values(by=\"nº beneficiários\", ascending=True)\n",
        "frequency_by_region"
      ],
      "execution_count": null,
      "outputs": [
        {
          "output_type": "execute_result",
          "data": {
            "text/html": [
              "<div>\n",
              "<style scoped>\n",
              "    .dataframe tbody tr th:only-of-type {\n",
              "        vertical-align: middle;\n",
              "    }\n",
              "\n",
              "    .dataframe tbody tr th {\n",
              "        vertical-align: top;\n",
              "    }\n",
              "\n",
              "    .dataframe thead th {\n",
              "        text-align: right;\n",
              "    }\n",
              "</style>\n",
              "<table border=\"1\" class=\"dataframe\">\n",
              "  <thead>\n",
              "    <tr style=\"text-align: right;\">\n",
              "      <th></th>\n",
              "      <th>nº beneficiários</th>\n",
              "    </tr>\n",
              "  </thead>\n",
              "  <tbody>\n",
              "    <tr>\n",
              "      <th>CENTRO-OESTE</th>\n",
              "      <td>13254</td>\n",
              "    </tr>\n",
              "    <tr>\n",
              "      <th>NORTE</th>\n",
              "      <td>16297</td>\n",
              "    </tr>\n",
              "    <tr>\n",
              "      <th>SUL</th>\n",
              "      <td>26368</td>\n",
              "    </tr>\n",
              "    <tr>\n",
              "      <th>NORDESTE</th>\n",
              "      <td>39244</td>\n",
              "    </tr>\n",
              "    <tr>\n",
              "      <th>SUDESTE</th>\n",
              "      <td>71629</td>\n",
              "    </tr>\n",
              "  </tbody>\n",
              "</table>\n",
              "</div>"
            ],
            "text/plain": [
              "              nº beneficiários\n",
              "CENTRO-OESTE             13254\n",
              "NORTE                    16297\n",
              "SUL                      26368\n",
              "NORDESTE                 39244\n",
              "SUDESTE                  71629"
            ]
          },
          "metadata": {},
          "execution_count": 14
        }
      ]
    },
    {
      "cell_type": "code",
      "metadata": {
        "id": "m5HLarMXWTwi"
      },
      "source": [
        "region = [\"Centro-Oeste\", \"Norte\", \"Sul\", \"Nordeste\", \"Sudeste\"]\n",
        "total_by_region = [13254,16297,26368,39244,71629]"
      ],
      "execution_count": null,
      "outputs": []
    },
    {
      "cell_type": "code",
      "metadata": {
        "colab": {
          "base_uri": "https://localhost:8080/",
          "height": 281
        },
        "id": "WqNsnNyEWNWL",
        "outputId": "eb5728a3-db81-4b6f-d833-7b3db856a9f6"
      },
      "source": [
        "plt.barh(region, total_by_region, align='center', color='#3845AF')\n",
        "plt.ylabel(\"\")\n",
        "plt.xlabel(\"\") \n",
        "plt.title(\"Nº de beneficiários por região\")\n",
        "plt.grid(axis='x', alpha=0.75)\n",
        "\n",
        "for index, value in enumerate(total_by_region):\n",
        "    plt.text(value, index,\n",
        "             str(value))\n",
        "  \n",
        "plt.show()"
      ],
      "execution_count": null,
      "outputs": [
        {
          "output_type": "display_data",
          "data": {
            "image/png": "[encoded data removed]",
            "text/plain": [
              "<Figure size 432x288 with 1 Axes>"
            ]
          },
          "metadata": {
            "needs_background": "light"
          }
        }
      ]
    },
    {
      "cell_type": "markdown",
      "metadata": {
        "id": "0Hge5QvxyBmH"
      },
      "source": [
        "## 4.2) Por raça"
      ]
    },
    {
      "cell_type": "code",
      "metadata": {
        "colab": {
          "base_uri": "https://localhost:8080/",
          "height": 235
        },
        "id": "rKM_LGadyTZm",
        "outputId": "612def2b-83ee-4dca-f6a5-3a9a851ca983"
      },
      "source": [
        "frequency_by_race = pd.DataFrame(dataframe_2020_clean[\"RACA_BENEFICIARIO_BOLSA\"].value_counts()).sort_index(ascending=False)\n",
        "frequency_by_race = frequency_by_race.rename(columns={\"RACA_BENEFICIARIO_BOLSA\":\"nº beneficiários\"})\n",
        "frequency_by_race = frequency_by_race.sort_values(by=\"nº beneficiários\", ascending=True)\n",
        "frequency_by_race"
      ],
      "execution_count": null,
      "outputs": [
        {
          "output_type": "execute_result",
          "data": {
            "text/html": [
              "<div>\n",
              "<style scoped>\n",
              "    .dataframe tbody tr th:only-of-type {\n",
              "        vertical-align: middle;\n",
              "    }\n",
              "\n",
              "    .dataframe tbody tr th {\n",
              "        vertical-align: top;\n",
              "    }\n",
              "\n",
              "    .dataframe thead th {\n",
              "        text-align: right;\n",
              "    }\n",
              "</style>\n",
              "<table border=\"1\" class=\"dataframe\">\n",
              "  <thead>\n",
              "    <tr style=\"text-align: right;\">\n",
              "      <th></th>\n",
              "      <th>nº beneficiários</th>\n",
              "    </tr>\n",
              "  </thead>\n",
              "  <tbody>\n",
              "    <tr>\n",
              "      <th>NÆo Informada</th>\n",
              "      <td>68</td>\n",
              "    </tr>\n",
              "    <tr>\n",
              "      <th>Ind¡gena</th>\n",
              "      <td>153</td>\n",
              "    </tr>\n",
              "    <tr>\n",
              "      <th>Amarela</th>\n",
              "      <td>2900</td>\n",
              "    </tr>\n",
              "    <tr>\n",
              "      <th>Preta</th>\n",
              "      <td>21151</td>\n",
              "    </tr>\n",
              "    <tr>\n",
              "      <th>Branca</th>\n",
              "      <td>64463</td>\n",
              "    </tr>\n",
              "    <tr>\n",
              "      <th>Parda</th>\n",
              "      <td>78057</td>\n",
              "    </tr>\n",
              "  </tbody>\n",
              "</table>\n",
              "</div>"
            ],
            "text/plain": [
              "               nº beneficiários\n",
              "NÆo Informada                68\n",
              "Ind¡gena                    153\n",
              "Amarela                    2900\n",
              "Preta                     21151\n",
              "Branca                    64463\n",
              "Parda                     78057"
            ]
          },
          "metadata": {},
          "execution_count": 17
        }
      ]
    },
    {
      "cell_type": "code",
      "metadata": {
        "id": "AYH33snW3o7i"
      },
      "source": [
        "race = [\"Não informada\",\"Indígena\",\"Amarela\",\"Preta\",\"Branca\",\"Parda\"]\n",
        "total_by_race = [68,153,2900,21151,64463,78057]"
      ],
      "execution_count": null,
      "outputs": []
    },
    {
      "cell_type": "code",
      "metadata": {
        "colab": {
          "base_uri": "https://localhost:8080/",
          "height": 281
        },
        "id": "pImgmLj7JpvX",
        "outputId": "68ad2469-bcb8-48b9-9004-c4f471d11205"
      },
      "source": [
        "plt.barh(race, total_by_race, align='center', color='#D5393D')\n",
        "plt.ylabel(\"\")\n",
        "plt.xlabel(\"\") \n",
        "plt.title(\"Nº de beneficiários por raça declarada\")\n",
        "plt.grid(axis='x', alpha=0.75)\n",
        "\n",
        "for index, value in enumerate(total_by_race):\n",
        "    plt.text(value, index,\n",
        "             str(value))\n",
        "  \n",
        "plt.show()"
      ],
      "execution_count": null,
      "outputs": [
        {
          "output_type": "display_data",
          "data": {
            "image/png": "[encoded data removed]",
            "text/plain": [
              "<Figure size 432x288 with 1 Axes>"
            ]
          },
          "metadata": {
            "needs_background": "light"
          }
        }
      ]
    },
    {
      "cell_type": "markdown",
      "metadata": {
        "id": "Tfv8nnE1yJsy"
      },
      "source": [
        "## 4.3) Por tipo de bolsa"
      ]
    },
    {
      "cell_type": "code",
      "metadata": {
        "colab": {
          "base_uri": "https://localhost:8080/",
          "height": 111
        },
        "id": "urFqOiYzyUEA",
        "outputId": "88b549ae-9950-4061-d511-cfdf552202ee"
      },
      "source": [
        "frequency_by_benefit = pd.DataFrame(dataframe_2020_clean[\"TIPO_BOLSA\"].value_counts()).sort_index(ascending=False)\n",
        "frequency_by_benefit = frequency_by_benefit.rename(columns={\"TIPO_BOLSA\":\"nº beneficiários\"})\n",
        "frequency_by_benefit = frequency_by_benefit.sort_values(by=\"nº beneficiários\", ascending=True)\n",
        "frequency_by_benefit"
      ],
      "execution_count": null,
      "outputs": [
        {
          "output_type": "execute_result",
          "data": {
            "text/html": [
              "<div>\n",
              "<style scoped>\n",
              "    .dataframe tbody tr th:only-of-type {\n",
              "        vertical-align: middle;\n",
              "    }\n",
              "\n",
              "    .dataframe tbody tr th {\n",
              "        vertical-align: top;\n",
              "    }\n",
              "\n",
              "    .dataframe thead th {\n",
              "        text-align: right;\n",
              "    }\n",
              "</style>\n",
              "<table border=\"1\" class=\"dataframe\">\n",
              "  <thead>\n",
              "    <tr style=\"text-align: right;\">\n",
              "      <th></th>\n",
              "      <th>nº beneficiários</th>\n",
              "    </tr>\n",
              "  </thead>\n",
              "  <tbody>\n",
              "    <tr>\n",
              "      <th>PARCIAL</th>\n",
              "      <td>36081</td>\n",
              "    </tr>\n",
              "    <tr>\n",
              "      <th>INTEGRAL</th>\n",
              "      <td>130711</td>\n",
              "    </tr>\n",
              "  </tbody>\n",
              "</table>\n",
              "</div>"
            ],
            "text/plain": [
              "          nº beneficiários\n",
              "PARCIAL              36081\n",
              "INTEGRAL            130711"
            ]
          },
          "metadata": {},
          "execution_count": 20
        }
      ]
    },
    {
      "cell_type": "code",
      "metadata": {
        "id": "TWUBY1gv4aqh"
      },
      "source": [
        "benefit = [\"Parcial\",\"Integral\"]\n",
        "total_by_benefit = [36081,130711]"
      ],
      "execution_count": null,
      "outputs": []
    },
    {
      "cell_type": "code",
      "metadata": {
        "colab": {
          "base_uri": "https://localhost:8080/",
          "height": 281
        },
        "id": "Qr7DUbFBKaeo",
        "outputId": "c4bc39a2-d56a-4a18-cd2e-92b690143984"
      },
      "source": [
        "plt.barh(benefit, total_by_benefit, align='center', color='#6A1391')\n",
        "plt.ylabel(\"\")\n",
        "plt.xlabel(\"\") \n",
        "plt.title(\"Nº de beneficiários por tipo de bolsa\")\n",
        "plt.grid(axis='x', alpha=0.75)\n",
        "\n",
        "for index, value in enumerate(total_by_benefit):\n",
        "    plt.text(value, index,\n",
        "             str(value))\n",
        "  \n",
        "plt.show()"
      ],
      "execution_count": null,
      "outputs": [
        {
          "output_type": "display_data",
          "data": {
            "image/png": "[encoded data removed]",
            "text/plain": [
              "<Figure size 432x288 with 1 Axes>"
            ]
          },
          "metadata": {
            "needs_background": "light"
          }
        }
      ]
    },
    {
      "cell_type": "markdown",
      "metadata": {
        "id": "GLkKa0pmz1Ol"
      },
      "source": [
        "## 4.4) Por modalidade do curso"
      ]
    },
    {
      "cell_type": "code",
      "metadata": {
        "colab": {
          "base_uri": "https://localhost:8080/",
          "height": 111
        },
        "id": "PMZ5d0rLz1fi",
        "outputId": "65d84758-f1a5-4f4c-fd28-f5f05e04215b"
      },
      "source": [
        "frequency_by_modality = pd.DataFrame(dataframe_2020_clean[\"MODALIDADE_ENSINO_BOLSA\"].value_counts()).sort_index(ascending=False)\n",
        "frequency_by_modality = frequency_by_modality.rename(columns={\"MODALIDADE_ENSINO_BOLSA\":\"nº beneficiários\"})\n",
        "frequency_by_modality = frequency_by_modality.sort_values(by=\"nº beneficiários\", ascending=True)\n",
        "frequency_by_modality"
      ],
      "execution_count": null,
      "outputs": [
        {
          "output_type": "execute_result",
          "data": {
            "text/html": [
              "<div>\n",
              "<style scoped>\n",
              "    .dataframe tbody tr th:only-of-type {\n",
              "        vertical-align: middle;\n",
              "    }\n",
              "\n",
              "    .dataframe tbody tr th {\n",
              "        vertical-align: top;\n",
              "    }\n",
              "\n",
              "    .dataframe thead th {\n",
              "        text-align: right;\n",
              "    }\n",
              "</style>\n",
              "<table border=\"1\" class=\"dataframe\">\n",
              "  <thead>\n",
              "    <tr style=\"text-align: right;\">\n",
              "      <th></th>\n",
              "      <th>nº beneficiários</th>\n",
              "    </tr>\n",
              "  </thead>\n",
              "  <tbody>\n",
              "    <tr>\n",
              "      <th>EAD</th>\n",
              "      <td>53819</td>\n",
              "    </tr>\n",
              "    <tr>\n",
              "      <th>PRESENCIAL</th>\n",
              "      <td>112973</td>\n",
              "    </tr>\n",
              "  </tbody>\n",
              "</table>\n",
              "</div>"
            ],
            "text/plain": [
              "            nº beneficiários\n",
              "EAD                    53819\n",
              "PRESENCIAL            112973"
            ]
          },
          "metadata": {},
          "execution_count": 23
        }
      ]
    },
    {
      "cell_type": "code",
      "metadata": {
        "id": "xhE5GCmD5VtP"
      },
      "source": [
        "modality = [\"EAD\",\"Presencial\"]\n",
        "total_by_modality = [53819,112973]"
      ],
      "execution_count": null,
      "outputs": []
    },
    {
      "cell_type": "code",
      "metadata": {
        "colab": {
          "base_uri": "https://localhost:8080/",
          "height": 281
        },
        "id": "SwoIajmeNpCC",
        "outputId": "3510dd28-86ec-4be1-bf70-c4c2428a3fcc"
      },
      "source": [
        "plt.barh(modality, total_by_modality, align='center', color='#ECC206')\n",
        "plt.ylabel(\"\")\n",
        "plt.xlabel(\"\") \n",
        "plt.title(\"Nº de beneficiários por modalidade do curso\")\n",
        "plt.grid(axis='x', alpha=0.75)\n",
        "\n",
        "for index, value in enumerate(total_by_modality):\n",
        "    plt.text(value, index,\n",
        "             str(value))\n",
        "  \n",
        "plt.show()"
      ],
      "execution_count": null,
      "outputs": [
        {
          "output_type": "display_data",
          "data": {
            "image/png": "[encoded data removed]",
            "text/plain": [
              "<Figure size 432x288 with 1 Axes>"
            ]
          },
          "metadata": {
            "needs_background": "light"
          }
        }
      ]
    },
    {
      "cell_type": "markdown",
      "metadata": {
        "id": "PVJvbfMKyU8G"
      },
      "source": [
        "## 4.5) Por sexo"
      ]
    },
    {
      "cell_type": "code",
      "metadata": {
        "colab": {
          "base_uri": "https://localhost:8080/",
          "height": 111
        },
        "id": "mSj1BRX9yYXF",
        "outputId": "493ea18e-43f3-4176-b006-bb111f017062"
      },
      "source": [
        "frequency_by_genre = pd.DataFrame(dataframe_2020_clean[\"SEXO_BENEFICIARIO_BOLSA\"].value_counts()).sort_index(ascending=False)\n",
        "frequency_by_genre = frequency_by_genre.rename(columns={\"SEXO_BENEFICIARIO_BOLSA\":\"nº beneficiários\"})\n",
        "frequency_by_genre = frequency_by_genre.sort_values(by=\"nº beneficiários\", ascending=True)\n",
        "frequency_by_genre"
      ],
      "execution_count": null,
      "outputs": [
        {
          "output_type": "execute_result",
          "data": {
            "text/html": [
              "<div>\n",
              "<style scoped>\n",
              "    .dataframe tbody tr th:only-of-type {\n",
              "        vertical-align: middle;\n",
              "    }\n",
              "\n",
              "    .dataframe tbody tr th {\n",
              "        vertical-align: top;\n",
              "    }\n",
              "\n",
              "    .dataframe thead th {\n",
              "        text-align: right;\n",
              "    }\n",
              "</style>\n",
              "<table border=\"1\" class=\"dataframe\">\n",
              "  <thead>\n",
              "    <tr style=\"text-align: right;\">\n",
              "      <th></th>\n",
              "      <th>nº beneficiários</th>\n",
              "    </tr>\n",
              "  </thead>\n",
              "  <tbody>\n",
              "    <tr>\n",
              "      <th>M</th>\n",
              "      <td>65675</td>\n",
              "    </tr>\n",
              "    <tr>\n",
              "      <th>F</th>\n",
              "      <td>101117</td>\n",
              "    </tr>\n",
              "  </tbody>\n",
              "</table>\n",
              "</div>"
            ],
            "text/plain": [
              "   nº beneficiários\n",
              "M             65675\n",
              "F            101117"
            ]
          },
          "metadata": {},
          "execution_count": 26
        }
      ]
    },
    {
      "cell_type": "code",
      "metadata": {
        "id": "SKpzcyXF66wP"
      },
      "source": [
        "genre = [\"Masculino\",\"Feminino\"]\n",
        "total_by_genre = [65675,101117]"
      ],
      "execution_count": null,
      "outputs": []
    },
    {
      "cell_type": "code",
      "metadata": {
        "colab": {
          "base_uri": "https://localhost:8080/",
          "height": 281
        },
        "id": "eWIAs4f_OHmU",
        "outputId": "153bf3e8-2424-4451-c2c0-4a87e8680ea2"
      },
      "source": [
        "plt.barh(genre, total_by_genre, align='center', color='#C60C7D')\n",
        "plt.ylabel(\"\")\n",
        "plt.xlabel(\"\") \n",
        "plt.title(\"Nº de beneficiários por sexo\")\n",
        "plt.grid(axis='x', alpha=0.75)\n",
        "\n",
        "for index, value in enumerate(total_by_genre):\n",
        "    plt.text(value, index,\n",
        "             str(value))\n",
        "  \n",
        "plt.show()"
      ],
      "execution_count": null,
      "outputs": [
        {
          "output_type": "display_data",
          "data": {
            "image/png": "[encoded data removed]",
            "text/plain": [
              "<Figure size 432x288 with 1 Axes>"
            ]
          },
          "metadata": {
            "needs_background": "light"
          }
        }
      ]
    },
    {
      "cell_type": "markdown",
      "metadata": {
        "id": "q5Da03Y4TVYu"
      },
      "source": [
        "# 5) Realizando os Testes de Hipótese\n",
        "\n",
        "- Existe dependência entre modalidade (EAD e presencial) e região do beneficiário?\n",
        "- Existe dependência entre modalidade (EAD e presencial) e sexo do beneficiário?\n",
        "- Existe dependência entre tipo de bolsa (total e parcial) e região do beneficiário?\n",
        "- Existe dependência entre tipo de bolsa (total e parcial) e raça declarada pelo beneficiário?\n"
      ]
    },
    {
      "cell_type": "code",
      "metadata": {
        "colab": {
          "base_uri": "https://localhost:8080/",
          "height": 391
        },
        "id": "-0-0vgmlelrQ",
        "outputId": "d3f400ae-f0f3-4819-9711-2f8cb0d9c27a"
      },
      "source": [
        "dataframe_2020_clean.head()"
      ],
      "execution_count": null,
      "outputs": [
        {
          "output_type": "execute_result",
          "data": {
            "text/html": [
              "<div>\n",
              "<style scoped>\n",
              "    .dataframe tbody tr th:only-of-type {\n",
              "        vertical-align: middle;\n",
              "    }\n",
              "\n",
              "    .dataframe tbody tr th {\n",
              "        vertical-align: top;\n",
              "    }\n",
              "\n",
              "    .dataframe thead th {\n",
              "        text-align: right;\n",
              "    }\n",
              "</style>\n",
              "<table border=\"1\" class=\"dataframe\">\n",
              "  <thead>\n",
              "    <tr style=\"text-align: right;\">\n",
              "      <th></th>\n",
              "      <th>CODIGO_EMEC_IES_BOLSA</th>\n",
              "      <th>NOME_IES_BOLSA</th>\n",
              "      <th>MUNICIPIO</th>\n",
              "      <th>CAMPUS</th>\n",
              "      <th>TIPO_BOLSA</th>\n",
              "      <th>MODALIDADE_ENSINO_BOLSA</th>\n",
              "      <th>NOME_CURSO_BOLSA</th>\n",
              "      <th>NOME_TURNO_CURSO_BOLSA</th>\n",
              "      <th>CPF_BENEFICIARIO</th>\n",
              "      <th>SEXO_BENEFICIARIO_BOLSA</th>\n",
              "      <th>RACA_BENEFICIARIO_BOLSA</th>\n",
              "      <th>DATA_NASCIMENTO</th>\n",
              "      <th>BENEFICIARIO_DEFICIENTE_FISICO</th>\n",
              "      <th>REGIAO_BENEFICIARIO_BOLSA</th>\n",
              "      <th>UF_BENEFICIARIO</th>\n",
              "      <th>MUNICIPIO_BENEFICIARIO</th>\n",
              "    </tr>\n",
              "    <tr>\n",
              "      <th>ANO_CONCESSAO_BOLSA</th>\n",
              "      <th></th>\n",
              "      <th></th>\n",
              "      <th></th>\n",
              "      <th></th>\n",
              "      <th></th>\n",
              "      <th></th>\n",
              "      <th></th>\n",
              "      <th></th>\n",
              "      <th></th>\n",
              "      <th></th>\n",
              "      <th></th>\n",
              "      <th></th>\n",
              "      <th></th>\n",
              "      <th></th>\n",
              "      <th></th>\n",
              "      <th></th>\n",
              "    </tr>\n",
              "  </thead>\n",
              "  <tbody>\n",
              "    <tr>\n",
              "      <th>2020</th>\n",
              "      <td>322</td>\n",
              "      <td>UNIVERSIDADE PAULISTA</td>\n",
              "      <td>IPATINGA</td>\n",
              "      <td>IPATINGA</td>\n",
              "      <td>INTEGRAL</td>\n",
              "      <td>EAD</td>\n",
              "      <td>PEDAGOGIA</td>\n",
              "      <td>CURSO A DIST¶NCIA</td>\n",
              "      <td>991.XXX.XXX-91</td>\n",
              "      <td>F</td>\n",
              "      <td>Parda</td>\n",
              "      <td>1973-08-11</td>\n",
              "      <td>N</td>\n",
              "      <td>SUDESTE</td>\n",
              "      <td>MG</td>\n",
              "      <td>GOVERNADOR VALADARES</td>\n",
              "    </tr>\n",
              "    <tr>\n",
              "      <th>2020</th>\n",
              "      <td>163</td>\n",
              "      <td>UNIVERSIDADE ESTµCIO DE Sµ</td>\n",
              "      <td>FORTALEZA</td>\n",
              "      <td>EAD VIA CORPVS - CE</td>\n",
              "      <td>INTEGRAL</td>\n",
              "      <td>EAD</td>\n",
              "      <td>MARKETING</td>\n",
              "      <td>CURSO A DIST¶NCIA</td>\n",
              "      <td>067.XXX.XXX-01</td>\n",
              "      <td>M</td>\n",
              "      <td>Parda</td>\n",
              "      <td>1987-05-13</td>\n",
              "      <td>N</td>\n",
              "      <td>NORDESTE</td>\n",
              "      <td>CE</td>\n",
              "      <td>FORTALEZA</td>\n",
              "    </tr>\n",
              "    <tr>\n",
              "      <th>2020</th>\n",
              "      <td>17670</td>\n",
              "      <td>FACULDADE DE QUIXERAMOBIM</td>\n",
              "      <td>QUIXERAMOBIM</td>\n",
              "      <td>FACULDADE DE QUIXERAMOBIM - UNIQ</td>\n",
              "      <td>INTEGRAL</td>\n",
              "      <td>PRESENCIAL</td>\n",
              "      <td>FARMµCIA</td>\n",
              "      <td>NOTURNO</td>\n",
              "      <td>623.XXX.XXX-27</td>\n",
              "      <td>M</td>\n",
              "      <td>Parda</td>\n",
              "      <td>2001-07-23</td>\n",
              "      <td>N</td>\n",
              "      <td>NORDESTE</td>\n",
              "      <td>CE</td>\n",
              "      <td>MOMBACA</td>\n",
              "    </tr>\n",
              "    <tr>\n",
              "      <th>2020</th>\n",
              "      <td>203</td>\n",
              "      <td>UNIVERSIDADE SÇO JUDAS TADEU</td>\n",
              "      <td>SAO PAULO</td>\n",
              "      <td>PAULISTA</td>\n",
              "      <td>PARCIAL</td>\n",
              "      <td>PRESENCIAL</td>\n",
              "      <td>DIREITO</td>\n",
              "      <td>MATUTINO</td>\n",
              "      <td>089.XXX.XXX-40</td>\n",
              "      <td>F</td>\n",
              "      <td>Branca</td>\n",
              "      <td>2003-04-04</td>\n",
              "      <td>N</td>\n",
              "      <td>NORDESTE</td>\n",
              "      <td>BA</td>\n",
              "      <td>IBITITA</td>\n",
              "    </tr>\n",
              "    <tr>\n",
              "      <th>2020</th>\n",
              "      <td>203</td>\n",
              "      <td>UNIVERSIDADE SÇO JUDAS TADEU</td>\n",
              "      <td>SAO PAULO</td>\n",
              "      <td>PAULISTA</td>\n",
              "      <td>INTEGRAL</td>\n",
              "      <td>PRESENCIAL</td>\n",
              "      <td>DIREITO</td>\n",
              "      <td>MATUTINO</td>\n",
              "      <td>173.XXX.XXX-09</td>\n",
              "      <td>F</td>\n",
              "      <td>Branca</td>\n",
              "      <td>1977-12-07</td>\n",
              "      <td>N</td>\n",
              "      <td>SUDESTE</td>\n",
              "      <td>SP</td>\n",
              "      <td>SAO PAULO</td>\n",
              "    </tr>\n",
              "  </tbody>\n",
              "</table>\n",
              "</div>"
            ],
            "text/plain": [
              "                     CODIGO_EMEC_IES_BOLSA  ... MUNICIPIO_BENEFICIARIO\n",
              "ANO_CONCESSAO_BOLSA                         ...                       \n",
              "2020                                   322  ...   GOVERNADOR VALADARES\n",
              "2020                                   163  ...              FORTALEZA\n",
              "2020                                 17670  ...                MOMBACA\n",
              "2020                                   203  ...                IBITITA\n",
              "2020                                   203  ...              SAO PAULO\n",
              "\n",
              "[5 rows x 16 columns]"
            ]
          },
          "metadata": {},
          "execution_count": 29
        }
      ]
    },
    {
      "cell_type": "markdown",
      "metadata": {
        "id": "cMKiRSXzUsnW"
      },
      "source": [
        "## 5.1) Teste de Hipótese 1: existe dependência entre modalidade do curso e região do beneficiário?"
      ]
    },
    {
      "cell_type": "markdown",
      "metadata": {
        "id": "rd6Lti_YhTPm"
      },
      "source": [
        "### Criando tabela de contingência (frequências observadas)"
      ]
    },
    {
      "cell_type": "code",
      "metadata": {
        "colab": {
          "base_uri": "https://localhost:8080/",
          "height": 173
        },
        "id": "K7tMOrbiXI6r",
        "outputId": "0b55f825-b9a5-4b67-e4c0-83ffcb61da26"
      },
      "source": [
        "#Tabela com total\n",
        "frequency_observed1A = pd.crosstab(index=dataframe_2020_clean[\"MODALIDADE_ENSINO_BOLSA\"],\n",
        "                    columns = dataframe_2020_clean[\"REGIAO_BENEFICIARIO_BOLSA\"],\n",
        "                    margins = True)\n",
        "\n",
        "frequency_observed1A"
      ],
      "execution_count": null,
      "outputs": [
        {
          "output_type": "execute_result",
          "data": {
            "text/html": [
              "<div>\n",
              "<style scoped>\n",
              "    .dataframe tbody tr th:only-of-type {\n",
              "        vertical-align: middle;\n",
              "    }\n",
              "\n",
              "    .dataframe tbody tr th {\n",
              "        vertical-align: top;\n",
              "    }\n",
              "\n",
              "    .dataframe thead th {\n",
              "        text-align: right;\n",
              "    }\n",
              "</style>\n",
              "<table border=\"1\" class=\"dataframe\">\n",
              "  <thead>\n",
              "    <tr style=\"text-align: right;\">\n",
              "      <th>REGIAO_BENEFICIARIO_BOLSA</th>\n",
              "      <th>CENTRO-OESTE</th>\n",
              "      <th>NORDESTE</th>\n",
              "      <th>NORTE</th>\n",
              "      <th>SUDESTE</th>\n",
              "      <th>SUL</th>\n",
              "      <th>All</th>\n",
              "    </tr>\n",
              "    <tr>\n",
              "      <th>MODALIDADE_ENSINO_BOLSA</th>\n",
              "      <th></th>\n",
              "      <th></th>\n",
              "      <th></th>\n",
              "      <th></th>\n",
              "      <th></th>\n",
              "      <th></th>\n",
              "    </tr>\n",
              "  </thead>\n",
              "  <tbody>\n",
              "    <tr>\n",
              "      <th>EAD</th>\n",
              "      <td>4056</td>\n",
              "      <td>12602</td>\n",
              "      <td>7031</td>\n",
              "      <td>18257</td>\n",
              "      <td>11873</td>\n",
              "      <td>53819</td>\n",
              "    </tr>\n",
              "    <tr>\n",
              "      <th>PRESENCIAL</th>\n",
              "      <td>9198</td>\n",
              "      <td>26642</td>\n",
              "      <td>9266</td>\n",
              "      <td>53372</td>\n",
              "      <td>14495</td>\n",
              "      <td>112973</td>\n",
              "    </tr>\n",
              "    <tr>\n",
              "      <th>All</th>\n",
              "      <td>13254</td>\n",
              "      <td>39244</td>\n",
              "      <td>16297</td>\n",
              "      <td>71629</td>\n",
              "      <td>26368</td>\n",
              "      <td>166792</td>\n",
              "    </tr>\n",
              "  </tbody>\n",
              "</table>\n",
              "</div>"
            ],
            "text/plain": [
              "REGIAO_BENEFICIARIO_BOLSA  CENTRO-OESTE  NORDESTE  ...    SUL     All\n",
              "MODALIDADE_ENSINO_BOLSA                            ...               \n",
              "EAD                                4056     12602  ...  11873   53819\n",
              "PRESENCIAL                         9198     26642  ...  14495  112973\n",
              "All                               13254     39244  ...  26368  166792\n",
              "\n",
              "[3 rows x 6 columns]"
            ]
          },
          "metadata": {},
          "execution_count": 30
        }
      ]
    },
    {
      "cell_type": "code",
      "metadata": {
        "colab": {
          "base_uri": "https://localhost:8080/",
          "height": 142
        },
        "id": "VqbF50_Vf3cU",
        "outputId": "e5e0ab9e-30a9-4ad6-8107-729ba44512dc"
      },
      "source": [
        "## Tabela sem total (para cálculo do qui-quadrado)\n",
        "frequency_observed1B = pd.crosstab(index=dataframe_2020_clean[\"MODALIDADE_ENSINO_BOLSA\"],\n",
        "                    columns = dataframe_2020_clean[\"REGIAO_BENEFICIARIO_BOLSA\"])\n",
        "\n",
        "frequency_observed1B"
      ],
      "execution_count": null,
      "outputs": [
        {
          "output_type": "execute_result",
          "data": {
            "text/html": [
              "<div>\n",
              "<style scoped>\n",
              "    .dataframe tbody tr th:only-of-type {\n",
              "        vertical-align: middle;\n",
              "    }\n",
              "\n",
              "    .dataframe tbody tr th {\n",
              "        vertical-align: top;\n",
              "    }\n",
              "\n",
              "    .dataframe thead th {\n",
              "        text-align: right;\n",
              "    }\n",
              "</style>\n",
              "<table border=\"1\" class=\"dataframe\">\n",
              "  <thead>\n",
              "    <tr style=\"text-align: right;\">\n",
              "      <th>REGIAO_BENEFICIARIO_BOLSA</th>\n",
              "      <th>CENTRO-OESTE</th>\n",
              "      <th>NORDESTE</th>\n",
              "      <th>NORTE</th>\n",
              "      <th>SUDESTE</th>\n",
              "      <th>SUL</th>\n",
              "    </tr>\n",
              "    <tr>\n",
              "      <th>MODALIDADE_ENSINO_BOLSA</th>\n",
              "      <th></th>\n",
              "      <th></th>\n",
              "      <th></th>\n",
              "      <th></th>\n",
              "      <th></th>\n",
              "    </tr>\n",
              "  </thead>\n",
              "  <tbody>\n",
              "    <tr>\n",
              "      <th>EAD</th>\n",
              "      <td>4056</td>\n",
              "      <td>12602</td>\n",
              "      <td>7031</td>\n",
              "      <td>18257</td>\n",
              "      <td>11873</td>\n",
              "    </tr>\n",
              "    <tr>\n",
              "      <th>PRESENCIAL</th>\n",
              "      <td>9198</td>\n",
              "      <td>26642</td>\n",
              "      <td>9266</td>\n",
              "      <td>53372</td>\n",
              "      <td>14495</td>\n",
              "    </tr>\n",
              "  </tbody>\n",
              "</table>\n",
              "</div>"
            ],
            "text/plain": [
              "REGIAO_BENEFICIARIO_BOLSA  CENTRO-OESTE  NORDESTE  NORTE  SUDESTE    SUL\n",
              "MODALIDADE_ENSINO_BOLSA                                                 \n",
              "EAD                                4056     12602   7031    18257  11873\n",
              "PRESENCIAL                         9198     26642   9266    53372  14495"
            ]
          },
          "metadata": {},
          "execution_count": 31
        }
      ]
    },
    {
      "cell_type": "markdown",
      "metadata": {
        "id": "7nvHHEW61UCc"
      },
      "source": [
        "### Calculando frequências esperadas e qui-quadrado da Hipótese 1"
      ]
    },
    {
      "cell_type": "code",
      "metadata": {
        "colab": {
          "base_uri": "https://localhost:8080/"
        },
        "id": "D139IHEr1Pxc",
        "outputId": "92b6ad01-004a-435f-f7cd-a66265dfd3a4"
      },
      "source": [
        "stat1, p1, dof1, expected1 = chi2_contingency(frequency_observed1B)\n",
        "print(\"qui-quadrado total: \", stat1)\n",
        "print(\"p-value: \", p1)\n",
        "print(\"graus de liberdade: \", dof1)\n",
        "print(\"frequências esperadas: \", expected1)"
      ],
      "execution_count": null,
      "outputs": [
        {
          "output_type": "stream",
          "text": [
            "qui-quadrado total:  4369.938240768281\n",
            "p-value:  0.0\n",
            "graus de liberdade:  4\n",
            "frequências esperadas:  [[ 4276.68608806 12662.91450429  5258.57500959 23112.62621109\n",
            "   8508.19818696]\n",
            " [ 8977.31391194 26581.08549571 11038.42499041 48516.37378891\n",
            "  17859.80181304]]\n"
          ],
          "name": "stdout"
        }
      ]
    },
    {
      "cell_type": "markdown",
      "metadata": {
        "id": "MDWNIyeT1o9G"
      },
      "source": [
        "### Conclusão do Teste de hipótese 1"
      ]
    },
    {
      "cell_type": "code",
      "metadata": {
        "colab": {
          "base_uri": "https://localhost:8080/"
        },
        "id": "I8LVXcr-2wMa",
        "outputId": "c1f3ccc2-1800-4753-9f85-7bc896d15afb"
      },
      "source": [
        "# Interpretando estatística do teste\n",
        "confidence = 0.95\n",
        "critical1 = chi2.ppf(confidence, dof1)\n",
        "if abs(stat1) >= critical1:\n",
        "\tprint('Dependente (rejeitar H0)')\n",
        "else:\n",
        "\tprint('Independente (não é possível rejeitar H0)')"
      ],
      "execution_count": null,
      "outputs": [
        {
          "output_type": "stream",
          "text": [
            "Dependente (rejeitar H0)\n"
          ],
          "name": "stdout"
        }
      ]
    },
    {
      "cell_type": "code",
      "metadata": {
        "colab": {
          "base_uri": "https://localhost:8080/"
        },
        "id": "wcoHOU-v2wMc",
        "outputId": "5cdede3f-822c-4f68-95d7-b47c2a5c7964"
      },
      "source": [
        "#Interpretando  p-value\n",
        "alpha = 1.0 - confidence\n",
        "if p1 <= alpha:\n",
        "\tprint('Dependente (rejeitar H0)')\n",
        "else:\n",
        "\tprint('Independente (não é possível rejeitar H0)')"
      ],
      "execution_count": null,
      "outputs": [
        {
          "output_type": "stream",
          "text": [
            "Dependente (rejeitar H0)\n"
          ],
          "name": "stdout"
        }
      ]
    },
    {
      "cell_type": "markdown",
      "metadata": {
        "id": "oXVCRaB6U5bs"
      },
      "source": [
        "## 5.2) Teste de Hipótese 2: existe dependência entre modalidade do curso e sexo?"
      ]
    },
    {
      "cell_type": "markdown",
      "metadata": {
        "id": "iDxB6mTpsYEc"
      },
      "source": [
        "### Criando tabela de contingência (frequências observadas)"
      ]
    },
    {
      "cell_type": "code",
      "metadata": {
        "colab": {
          "base_uri": "https://localhost:8080/",
          "height": 173
        },
        "id": "XkXlpqK6XlHi",
        "outputId": "90ac3695-7c83-41a6-df43-7563031d69a2"
      },
      "source": [
        "# Tabela com total\n",
        "frequency_observed2A = pd.crosstab(index=dataframe_2020_clean[\"MODALIDADE_ENSINO_BOLSA\"],\n",
        "                    columns = dataframe_2020_clean[\"SEXO_BENEFICIARIO_BOLSA\"],\n",
        "                    margins = True)\n",
        "\n",
        "frequency_observed2A"
      ],
      "execution_count": null,
      "outputs": [
        {
          "output_type": "execute_result",
          "data": {
            "text/html": [
              "<div>\n",
              "<style scoped>\n",
              "    .dataframe tbody tr th:only-of-type {\n",
              "        vertical-align: middle;\n",
              "    }\n",
              "\n",
              "    .dataframe tbody tr th {\n",
              "        vertical-align: top;\n",
              "    }\n",
              "\n",
              "    .dataframe thead th {\n",
              "        text-align: right;\n",
              "    }\n",
              "</style>\n",
              "<table border=\"1\" class=\"dataframe\">\n",
              "  <thead>\n",
              "    <tr style=\"text-align: right;\">\n",
              "      <th>SEXO_BENEFICIARIO_BOLSA</th>\n",
              "      <th>F</th>\n",
              "      <th>M</th>\n",
              "      <th>All</th>\n",
              "    </tr>\n",
              "    <tr>\n",
              "      <th>MODALIDADE_ENSINO_BOLSA</th>\n",
              "      <th></th>\n",
              "      <th></th>\n",
              "      <th></th>\n",
              "    </tr>\n",
              "  </thead>\n",
              "  <tbody>\n",
              "    <tr>\n",
              "      <th>EAD</th>\n",
              "      <td>33069</td>\n",
              "      <td>20750</td>\n",
              "      <td>53819</td>\n",
              "    </tr>\n",
              "    <tr>\n",
              "      <th>PRESENCIAL</th>\n",
              "      <td>68048</td>\n",
              "      <td>44925</td>\n",
              "      <td>112973</td>\n",
              "    </tr>\n",
              "    <tr>\n",
              "      <th>All</th>\n",
              "      <td>101117</td>\n",
              "      <td>65675</td>\n",
              "      <td>166792</td>\n",
              "    </tr>\n",
              "  </tbody>\n",
              "</table>\n",
              "</div>"
            ],
            "text/plain": [
              "SEXO_BENEFICIARIO_BOLSA       F      M     All\n",
              "MODALIDADE_ENSINO_BOLSA                       \n",
              "EAD                       33069  20750   53819\n",
              "PRESENCIAL                68048  44925  112973\n",
              "All                      101117  65675  166792"
            ]
          },
          "metadata": {},
          "execution_count": 35
        }
      ]
    },
    {
      "cell_type": "code",
      "metadata": {
        "colab": {
          "base_uri": "https://localhost:8080/",
          "height": 142
        },
        "id": "03xwaXUnU-iU",
        "outputId": "b7a44091-0609-4d44-a407-4feaeeef200e"
      },
      "source": [
        "# Tabela sem total (para cálculo do qui-quadrado)\n",
        "frequency_observed2B = pd.crosstab(index=dataframe_2020_clean[\"MODALIDADE_ENSINO_BOLSA\"],\n",
        "                    columns = dataframe_2020_clean[\"SEXO_BENEFICIARIO_BOLSA\"])\n",
        "\n",
        "frequency_observed2B"
      ],
      "execution_count": null,
      "outputs": [
        {
          "output_type": "execute_result",
          "data": {
            "text/html": [
              "<div>\n",
              "<style scoped>\n",
              "    .dataframe tbody tr th:only-of-type {\n",
              "        vertical-align: middle;\n",
              "    }\n",
              "\n",
              "    .dataframe tbody tr th {\n",
              "        vertical-align: top;\n",
              "    }\n",
              "\n",
              "    .dataframe thead th {\n",
              "        text-align: right;\n",
              "    }\n",
              "</style>\n",
              "<table border=\"1\" class=\"dataframe\">\n",
              "  <thead>\n",
              "    <tr style=\"text-align: right;\">\n",
              "      <th>SEXO_BENEFICIARIO_BOLSA</th>\n",
              "      <th>F</th>\n",
              "      <th>M</th>\n",
              "    </tr>\n",
              "    <tr>\n",
              "      <th>MODALIDADE_ENSINO_BOLSA</th>\n",
              "      <th></th>\n",
              "      <th></th>\n",
              "    </tr>\n",
              "  </thead>\n",
              "  <tbody>\n",
              "    <tr>\n",
              "      <th>EAD</th>\n",
              "      <td>33069</td>\n",
              "      <td>20750</td>\n",
              "    </tr>\n",
              "    <tr>\n",
              "      <th>PRESENCIAL</th>\n",
              "      <td>68048</td>\n",
              "      <td>44925</td>\n",
              "    </tr>\n",
              "  </tbody>\n",
              "</table>\n",
              "</div>"
            ],
            "text/plain": [
              "SEXO_BENEFICIARIO_BOLSA      F      M\n",
              "MODALIDADE_ENSINO_BOLSA              \n",
              "EAD                      33069  20750\n",
              "PRESENCIAL               68048  44925"
            ]
          },
          "metadata": {},
          "execution_count": 36
        }
      ]
    },
    {
      "cell_type": "markdown",
      "metadata": {
        "id": "7Y9NOC-P1qSl"
      },
      "source": [
        "### Calculando frequências esperadas e qui-quadrado da Hipótese 2"
      ]
    },
    {
      "cell_type": "code",
      "metadata": {
        "colab": {
          "base_uri": "https://localhost:8080/"
        },
        "id": "ey2is_sp11h4",
        "outputId": "59d0809a-8e07-481c-b50c-ac5b39f0e053"
      },
      "source": [
        "stat2, p2, dof2, expected2 = chi2_contingency(frequency_observed2B)\n",
        "print(\"qui-quadrado total: \", stat2)\n",
        "print(\"p-value: \", p2)\n",
        "print(\"graus de liberdade: \", dof2)\n",
        "print(\"frequências esperadas: \", expected2)"
      ],
      "execution_count": null,
      "outputs": [
        {
          "output_type": "stream",
          "text": [
            "qui-quadrado total:  22.343543220200083\n",
            "p-value:  2.2797825911415233e-06\n",
            "graus de liberdade:  1\n",
            "frequências esperadas:  [[32627.55901362 21191.44098638]\n",
            " [68489.44098638 44483.55901362]]\n"
          ],
          "name": "stdout"
        }
      ]
    },
    {
      "cell_type": "markdown",
      "metadata": {
        "id": "CDmRt3zL2mP8"
      },
      "source": [
        "### Conclusão do Teste de hipótese 2"
      ]
    },
    {
      "cell_type": "code",
      "metadata": {
        "colab": {
          "base_uri": "https://localhost:8080/"
        },
        "id": "iQUbCIeJ2-fq",
        "outputId": "1f548733-61c2-4756-9290-47e68d220fdf"
      },
      "source": [
        "# Interpretando estatística do teste\n",
        "confidence = 0.95\n",
        "critical2 = chi2.ppf(confidence, dof2)\n",
        "if abs(stat2) >= critical2:\n",
        "\tprint('Dependente (rejeitar H0)')\n",
        "else:\n",
        "\tprint('Independente (não é possível rejeitar H0)')"
      ],
      "execution_count": null,
      "outputs": [
        {
          "output_type": "stream",
          "text": [
            "Dependente (rejeitar H0)\n"
          ],
          "name": "stdout"
        }
      ]
    },
    {
      "cell_type": "code",
      "metadata": {
        "colab": {
          "base_uri": "https://localhost:8080/"
        },
        "id": "wyP3rcYI2-fr",
        "outputId": "335b0fc1-0e3a-48fb-ef6e-83844a69bbaa"
      },
      "source": [
        "#Interpretando  p-value\n",
        "alpha = 1.0 - confidence\n",
        "if p2 <= alpha:\n",
        "\tprint('Dependente (rejeitar H0)')\n",
        "else:\n",
        "\tprint('Independente (não é possível rejeitar H0)')"
      ],
      "execution_count": null,
      "outputs": [
        {
          "output_type": "stream",
          "text": [
            "Dependente (rejeitar H0)\n"
          ],
          "name": "stdout"
        }
      ]
    },
    {
      "cell_type": "markdown",
      "metadata": {
        "id": "26kb8u_9U-_f"
      },
      "source": [
        "## 5.3) Teste de Hipótese 3: existe dependência entre tipo de bolsa e região do beneficiário?"
      ]
    },
    {
      "cell_type": "markdown",
      "metadata": {
        "id": "9YtplA1zsZrk"
      },
      "source": [
        "### Criando tabela de contingência (frequências observadas)"
      ]
    },
    {
      "cell_type": "code",
      "metadata": {
        "colab": {
          "base_uri": "https://localhost:8080/",
          "height": 173
        },
        "id": "ALOV-TdrYG7C",
        "outputId": "d43af8a9-524a-4ae4-f36a-2f74daa52070"
      },
      "source": [
        "# Tabela com total\n",
        "frequency_observed3A = pd.crosstab(index=dataframe_2020_clean[\"TIPO_BOLSA\"],\n",
        "                    columns = dataframe_2020_clean[\"REGIAO_BENEFICIARIO_BOLSA\"],\n",
        "                    margins = True)\n",
        "\n",
        "frequency_observed3A"
      ],
      "execution_count": null,
      "outputs": [
        {
          "output_type": "execute_result",
          "data": {
            "text/html": [
              "<div>\n",
              "<style scoped>\n",
              "    .dataframe tbody tr th:only-of-type {\n",
              "        vertical-align: middle;\n",
              "    }\n",
              "\n",
              "    .dataframe tbody tr th {\n",
              "        vertical-align: top;\n",
              "    }\n",
              "\n",
              "    .dataframe thead th {\n",
              "        text-align: right;\n",
              "    }\n",
              "</style>\n",
              "<table border=\"1\" class=\"dataframe\">\n",
              "  <thead>\n",
              "    <tr style=\"text-align: right;\">\n",
              "      <th>REGIAO_BENEFICIARIO_BOLSA</th>\n",
              "      <th>CENTRO-OESTE</th>\n",
              "      <th>NORDESTE</th>\n",
              "      <th>NORTE</th>\n",
              "      <th>SUDESTE</th>\n",
              "      <th>SUL</th>\n",
              "      <th>All</th>\n",
              "    </tr>\n",
              "    <tr>\n",
              "      <th>TIPO_BOLSA</th>\n",
              "      <th></th>\n",
              "      <th></th>\n",
              "      <th></th>\n",
              "      <th></th>\n",
              "      <th></th>\n",
              "      <th></th>\n",
              "    </tr>\n",
              "  </thead>\n",
              "  <tbody>\n",
              "    <tr>\n",
              "      <th>INTEGRAL</th>\n",
              "      <td>9866</td>\n",
              "      <td>28643</td>\n",
              "      <td>12945</td>\n",
              "      <td>59213</td>\n",
              "      <td>20044</td>\n",
              "      <td>130711</td>\n",
              "    </tr>\n",
              "    <tr>\n",
              "      <th>PARCIAL</th>\n",
              "      <td>3388</td>\n",
              "      <td>10601</td>\n",
              "      <td>3352</td>\n",
              "      <td>12416</td>\n",
              "      <td>6324</td>\n",
              "      <td>36081</td>\n",
              "    </tr>\n",
              "    <tr>\n",
              "      <th>All</th>\n",
              "      <td>13254</td>\n",
              "      <td>39244</td>\n",
              "      <td>16297</td>\n",
              "      <td>71629</td>\n",
              "      <td>26368</td>\n",
              "      <td>166792</td>\n",
              "    </tr>\n",
              "  </tbody>\n",
              "</table>\n",
              "</div>"
            ],
            "text/plain": [
              "REGIAO_BENEFICIARIO_BOLSA  CENTRO-OESTE  NORDESTE  ...    SUL     All\n",
              "TIPO_BOLSA                                         ...               \n",
              "INTEGRAL                           9866     28643  ...  20044  130711\n",
              "PARCIAL                            3388     10601  ...   6324   36081\n",
              "All                               13254     39244  ...  26368  166792\n",
              "\n",
              "[3 rows x 6 columns]"
            ]
          },
          "metadata": {},
          "execution_count": 40
        }
      ]
    },
    {
      "cell_type": "code",
      "metadata": {
        "colab": {
          "base_uri": "https://localhost:8080/",
          "height": 142
        },
        "id": "MwxlMqAIWSV5",
        "outputId": "2c6ee498-9d33-4a9f-c3b9-505d40fd2d93"
      },
      "source": [
        "# Tabela sem total (para cálculo do qui-quadrado)\n",
        "frequency_observed3B = pd.crosstab(index=dataframe_2020_clean[\"TIPO_BOLSA\"],\n",
        "                    columns = dataframe_2020_clean[\"REGIAO_BENEFICIARIO_BOLSA\"])\n",
        "\n",
        "frequency_observed3B"
      ],
      "execution_count": null,
      "outputs": [
        {
          "output_type": "execute_result",
          "data": {
            "text/html": [
              "<div>\n",
              "<style scoped>\n",
              "    .dataframe tbody tr th:only-of-type {\n",
              "        vertical-align: middle;\n",
              "    }\n",
              "\n",
              "    .dataframe tbody tr th {\n",
              "        vertical-align: top;\n",
              "    }\n",
              "\n",
              "    .dataframe thead th {\n",
              "        text-align: right;\n",
              "    }\n",
              "</style>\n",
              "<table border=\"1\" class=\"dataframe\">\n",
              "  <thead>\n",
              "    <tr style=\"text-align: right;\">\n",
              "      <th>REGIAO_BENEFICIARIO_BOLSA</th>\n",
              "      <th>CENTRO-OESTE</th>\n",
              "      <th>NORDESTE</th>\n",
              "      <th>NORTE</th>\n",
              "      <th>SUDESTE</th>\n",
              "      <th>SUL</th>\n",
              "    </tr>\n",
              "    <tr>\n",
              "      <th>TIPO_BOLSA</th>\n",
              "      <th></th>\n",
              "      <th></th>\n",
              "      <th></th>\n",
              "      <th></th>\n",
              "      <th></th>\n",
              "    </tr>\n",
              "  </thead>\n",
              "  <tbody>\n",
              "    <tr>\n",
              "      <th>INTEGRAL</th>\n",
              "      <td>9866</td>\n",
              "      <td>28643</td>\n",
              "      <td>12945</td>\n",
              "      <td>59213</td>\n",
              "      <td>20044</td>\n",
              "    </tr>\n",
              "    <tr>\n",
              "      <th>PARCIAL</th>\n",
              "      <td>3388</td>\n",
              "      <td>10601</td>\n",
              "      <td>3352</td>\n",
              "      <td>12416</td>\n",
              "      <td>6324</td>\n",
              "    </tr>\n",
              "  </tbody>\n",
              "</table>\n",
              "</div>"
            ],
            "text/plain": [
              "REGIAO_BENEFICIARIO_BOLSA  CENTRO-OESTE  NORDESTE  NORTE  SUDESTE    SUL\n",
              "TIPO_BOLSA                                                              \n",
              "INTEGRAL                           9866     28643  12945    59213  20044\n",
              "PARCIAL                            3388     10601   3352    12416   6324"
            ]
          },
          "metadata": {},
          "execution_count": 41
        }
      ]
    },
    {
      "cell_type": "markdown",
      "metadata": {
        "id": "RDZJ_nqN1vHS"
      },
      "source": [
        "### Calculando frequências esperadas e qui-quadrado da Hipótese 3"
      ]
    },
    {
      "cell_type": "code",
      "metadata": {
        "colab": {
          "base_uri": "https://localhost:8080/"
        },
        "id": "ofP5x-vV1u3J",
        "outputId": "b460bb40-84cc-40b5-83cc-66915462222d"
      },
      "source": [
        "stat3, p3, dof3, expected3 = chi2_contingency(frequency_observed3B)\n",
        "print(\"qui-quadrado total: \", stat3)\n",
        "print(\"p-value: \", p3)\n",
        "print(\"graus de liberdade: \", dof3)\n",
        "print(\"frequências esperadas: \", expected3)"
      ],
      "execution_count": null,
      "outputs": [
        {
          "output_type": "stream",
          "text": [
            "qui-quadrado total:  1668.547921413668\n",
            "p-value:  0.0\n",
            "graus de liberdade:  4\n",
            "frequências esperadas:  [[10386.85065231 30754.60743921 12771.57877476 56133.97656362\n",
            "  20663.9865701 ]\n",
            " [ 2867.14934769  8489.39256079  3525.42122524 15495.02343638\n",
            "   5704.0134299 ]]\n"
          ],
          "name": "stdout"
        }
      ]
    },
    {
      "cell_type": "markdown",
      "metadata": {
        "id": "ZBtxAyx92qEE"
      },
      "source": [
        "### Conclusão do Teste de hipótese 3"
      ]
    },
    {
      "cell_type": "code",
      "metadata": {
        "colab": {
          "base_uri": "https://localhost:8080/"
        },
        "id": "g2CxPmFr3KoO",
        "outputId": "843c83f2-93e7-4314-c978-fb77b351fcf6"
      },
      "source": [
        "# Interpretando estatística do teste\n",
        "confidence = 0.95\n",
        "critical3 = chi2.ppf(confidence, dof3)\n",
        "if abs(stat3) >= critical2:\n",
        "\tprint('Dependente (rejeitar H0)')\n",
        "else:\n",
        "\tprint('Independente (não é possível rejeitar H0)')"
      ],
      "execution_count": null,
      "outputs": [
        {
          "output_type": "stream",
          "text": [
            "Dependente (rejeitar H0)\n"
          ],
          "name": "stdout"
        }
      ]
    },
    {
      "cell_type": "code",
      "metadata": {
        "colab": {
          "base_uri": "https://localhost:8080/"
        },
        "id": "QWZlQQr_3KoP",
        "outputId": "7a002753-070d-4014-ddff-d4807ca7dea8"
      },
      "source": [
        "#Interpretando  p-value\n",
        "alpha = 1.0 - confidence\n",
        "if p3 <= alpha:\n",
        "\tprint('Dependente (rejeitar H0)')\n",
        "else:\n",
        "\tprint('Independente (não é possível rejeitar H0)')"
      ],
      "execution_count": null,
      "outputs": [
        {
          "output_type": "stream",
          "text": [
            "Dependente (rejeitar H0)\n"
          ],
          "name": "stdout"
        }
      ]
    },
    {
      "cell_type": "markdown",
      "metadata": {
        "id": "OHy6y6tWWS-U"
      },
      "source": [
        "## 5.4) Teste de Hipótese 4: existe dependência entre tipo de bolsa e raça?"
      ]
    },
    {
      "cell_type": "markdown",
      "metadata": {
        "id": "djgL7gvisa4p"
      },
      "source": [
        "### Criando tabela de contingência (frequências observadas)"
      ]
    },
    {
      "cell_type": "code",
      "metadata": {
        "colab": {
          "base_uri": "https://localhost:8080/",
          "height": 173
        },
        "id": "K3r-UdHyYWTt",
        "outputId": "609782f8-6a7f-41c9-f67c-4039567d8179"
      },
      "source": [
        "#Tabela com total\n",
        "frequency_observed4A = pd.crosstab(index=dataframe_2020_clean[\"TIPO_BOLSA\"],\n",
        "                    columns = dataframe_2020_clean[\"RACA_BENEFICIARIO_BOLSA\"],\n",
        "                    margins = True)\n",
        "\n",
        "frequency_observed4A"
      ],
      "execution_count": null,
      "outputs": [
        {
          "output_type": "execute_result",
          "data": {
            "text/html": [
              "<div>\n",
              "<style scoped>\n",
              "    .dataframe tbody tr th:only-of-type {\n",
              "        vertical-align: middle;\n",
              "    }\n",
              "\n",
              "    .dataframe tbody tr th {\n",
              "        vertical-align: top;\n",
              "    }\n",
              "\n",
              "    .dataframe thead th {\n",
              "        text-align: right;\n",
              "    }\n",
              "</style>\n",
              "<table border=\"1\" class=\"dataframe\">\n",
              "  <thead>\n",
              "    <tr style=\"text-align: right;\">\n",
              "      <th>RACA_BENEFICIARIO_BOLSA</th>\n",
              "      <th>Amarela</th>\n",
              "      <th>Branca</th>\n",
              "      <th>Ind¡gena</th>\n",
              "      <th>NÆo Informada</th>\n",
              "      <th>Parda</th>\n",
              "      <th>Preta</th>\n",
              "      <th>All</th>\n",
              "    </tr>\n",
              "    <tr>\n",
              "      <th>TIPO_BOLSA</th>\n",
              "      <th></th>\n",
              "      <th></th>\n",
              "      <th></th>\n",
              "      <th></th>\n",
              "      <th></th>\n",
              "      <th></th>\n",
              "      <th></th>\n",
              "    </tr>\n",
              "  </thead>\n",
              "  <tbody>\n",
              "    <tr>\n",
              "      <th>INTEGRAL</th>\n",
              "      <td>2082</td>\n",
              "      <td>49552</td>\n",
              "      <td>136</td>\n",
              "      <td>64</td>\n",
              "      <td>61621</td>\n",
              "      <td>17256</td>\n",
              "      <td>130711</td>\n",
              "    </tr>\n",
              "    <tr>\n",
              "      <th>PARCIAL</th>\n",
              "      <td>818</td>\n",
              "      <td>14911</td>\n",
              "      <td>17</td>\n",
              "      <td>4</td>\n",
              "      <td>16436</td>\n",
              "      <td>3895</td>\n",
              "      <td>36081</td>\n",
              "    </tr>\n",
              "    <tr>\n",
              "      <th>All</th>\n",
              "      <td>2900</td>\n",
              "      <td>64463</td>\n",
              "      <td>153</td>\n",
              "      <td>68</td>\n",
              "      <td>78057</td>\n",
              "      <td>21151</td>\n",
              "      <td>166792</td>\n",
              "    </tr>\n",
              "  </tbody>\n",
              "</table>\n",
              "</div>"
            ],
            "text/plain": [
              "RACA_BENEFICIARIO_BOLSA  Amarela  Branca  Ind¡gena  ...  Parda  Preta     All\n",
              "TIPO_BOLSA                                          ...                      \n",
              "INTEGRAL                    2082   49552       136  ...  61621  17256  130711\n",
              "PARCIAL                      818   14911        17  ...  16436   3895   36081\n",
              "All                         2900   64463       153  ...  78057  21151  166792\n",
              "\n",
              "[3 rows x 7 columns]"
            ]
          },
          "metadata": {},
          "execution_count": 45
        }
      ]
    },
    {
      "cell_type": "code",
      "metadata": {
        "colab": {
          "base_uri": "https://localhost:8080/",
          "height": 142
        },
        "id": "h5ut-6XcsPnJ",
        "outputId": "16a034a3-103b-4b6c-dfee-c051c8372245"
      },
      "source": [
        "# Tabela sem total (para cálculo do qui-quadrado)\n",
        "frequency_observed4B = pd.crosstab(index=dataframe_2020_clean[\"TIPO_BOLSA\"],\n",
        "                    columns = dataframe_2020_clean[\"RACA_BENEFICIARIO_BOLSA\"])\n",
        "\n",
        "frequency_observed4B"
      ],
      "execution_count": null,
      "outputs": [
        {
          "output_type": "execute_result",
          "data": {
            "text/html": [
              "<div>\n",
              "<style scoped>\n",
              "    .dataframe tbody tr th:only-of-type {\n",
              "        vertical-align: middle;\n",
              "    }\n",
              "\n",
              "    .dataframe tbody tr th {\n",
              "        vertical-align: top;\n",
              "    }\n",
              "\n",
              "    .dataframe thead th {\n",
              "        text-align: right;\n",
              "    }\n",
              "</style>\n",
              "<table border=\"1\" class=\"dataframe\">\n",
              "  <thead>\n",
              "    <tr style=\"text-align: right;\">\n",
              "      <th>RACA_BENEFICIARIO_BOLSA</th>\n",
              "      <th>Amarela</th>\n",
              "      <th>Branca</th>\n",
              "      <th>Ind¡gena</th>\n",
              "      <th>NÆo Informada</th>\n",
              "      <th>Parda</th>\n",
              "      <th>Preta</th>\n",
              "    </tr>\n",
              "    <tr>\n",
              "      <th>TIPO_BOLSA</th>\n",
              "      <th></th>\n",
              "      <th></th>\n",
              "      <th></th>\n",
              "      <th></th>\n",
              "      <th></th>\n",
              "      <th></th>\n",
              "    </tr>\n",
              "  </thead>\n",
              "  <tbody>\n",
              "    <tr>\n",
              "      <th>INTEGRAL</th>\n",
              "      <td>2082</td>\n",
              "      <td>49552</td>\n",
              "      <td>136</td>\n",
              "      <td>64</td>\n",
              "      <td>61621</td>\n",
              "      <td>17256</td>\n",
              "    </tr>\n",
              "    <tr>\n",
              "      <th>PARCIAL</th>\n",
              "      <td>818</td>\n",
              "      <td>14911</td>\n",
              "      <td>17</td>\n",
              "      <td>4</td>\n",
              "      <td>16436</td>\n",
              "      <td>3895</td>\n",
              "    </tr>\n",
              "  </tbody>\n",
              "</table>\n",
              "</div>"
            ],
            "text/plain": [
              "RACA_BENEFICIARIO_BOLSA  Amarela  Branca  Ind¡gena  NÆo Informada  Parda  Preta\n",
              "TIPO_BOLSA                                                                     \n",
              "INTEGRAL                    2082   49552       136             64  61621  17256\n",
              "PARCIAL                      818   14911        17              4  16436   3895"
            ]
          },
          "metadata": {},
          "execution_count": 46
        }
      ]
    },
    {
      "cell_type": "markdown",
      "metadata": {
        "id": "L6dlbrQ_wgo7"
      },
      "source": [
        "### Calculando frequências esperadas e qui-quadrado da Hipótese 4"
      ]
    },
    {
      "cell_type": "code",
      "metadata": {
        "colab": {
          "base_uri": "https://localhost:8080/"
        },
        "id": "TtDckiEzwGLb",
        "outputId": "8937df1f-41cf-4af9-c311-d5fe68f70c3e"
      },
      "source": [
        "stat4, p4, dof4, expected4 = chi2_contingency(frequency_observed4B)\n",
        "print(\"qui-quadrado total: \", stat4)\n",
        "print(\"p-value: \", p4)\n",
        "print(\"graus de liberdade: \", dof4)\n",
        "print(\"frequências esperadas: \", expected4)"
      ],
      "execution_count": null,
      "outputs": [
        {
          "output_type": "stream",
          "text": [
            "qui-quadrado total:  323.7006315808474\n",
            "p-value:  8.004860986042118e-68\n",
            "graus de liberdade:  5\n",
            "frequências esperadas:  [[2.27266236e+03 5.05181495e+04 1.19902531e+02 5.32900139e+01\n",
            "  6.11714502e+04 1.65755454e+04]\n",
            " [6.27337642e+02 1.39448505e+04 3.30974687e+01 1.47099861e+01\n",
            "  1.68855498e+04 4.57545464e+03]]\n"
          ],
          "name": "stdout"
        }
      ]
    },
    {
      "cell_type": "markdown",
      "metadata": {
        "id": "KxoW1M3x0e6J"
      },
      "source": [
        "### Conclusão do Teste de hipótese 4"
      ]
    },
    {
      "cell_type": "code",
      "metadata": {
        "colab": {
          "base_uri": "https://localhost:8080/"
        },
        "id": "-QDtYcAK0Xx9",
        "outputId": "08f4a83e-9ac6-4fa7-d6cc-b222cbf3a033"
      },
      "source": [
        "# Interpretando estatística do teste\n",
        "confidence = 0.95\n",
        "critical4 = chi2.ppf(confidence, dof4)\n",
        "if abs(stat4) >= critical4:\n",
        "\tprint('Dependente (rejeitar H0)')\n",
        "else:\n",
        "\tprint('Independente (não é possível rejeitar H0)')"
      ],
      "execution_count": null,
      "outputs": [
        {
          "output_type": "stream",
          "text": [
            "Dependente (rejeitar H0)\n"
          ],
          "name": "stdout"
        }
      ]
    },
    {
      "cell_type": "code",
      "metadata": {
        "colab": {
          "base_uri": "https://localhost:8080/"
        },
        "id": "J9i91VyIxnV_",
        "outputId": "c8a4f4ff-fb4a-4d81-fae5-33c26d10d7de"
      },
      "source": [
        "#Interpretando  p-value\n",
        "alpha = 1.0 - confidence\n",
        "if p4 <= alpha:\n",
        "\tprint('Dependente (rejeitar H0)')\n",
        "else:\n",
        "\tprint('Independente (não é possível rejeitar H0)')"
      ],
      "execution_count": null,
      "outputs": [
        {
          "output_type": "stream",
          "text": [
            "Dependente (rejeitar H0)\n"
          ],
          "name": "stdout"
        }
      ]
    },
    {
      "cell_type": "code",
      "metadata": {
        "id": "RpqBOAzD5Ejp"
      },
      "source": [
        "dataframe_2020_clean.to_excel(\"prouni_2020.xlsx\")"
      ],
      "execution_count": null,
      "outputs": []
    }
  ]
}